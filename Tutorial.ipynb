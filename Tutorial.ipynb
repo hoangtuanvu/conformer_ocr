{
 "cells": [
  {
   "cell_type": "code",
   "execution_count": 1,
   "id": "d6d4af8f-5fce-42e5-8105-e6398516a132",
   "metadata": {},
   "outputs": [],
   "source": [
    "import sys\n",
    "import hydra\n",
    "from PIL import Image\n",
    "from omegaconf import DictConfig\n",
    "import matplotlib.pyplot as plt\n",
    "from transformer_ocr.models.model import TransformerOCRCTC"
   ]
  },
  {
   "cell_type": "code",
   "execution_count": 2,
   "id": "72db2b13-b69b-4320-b41b-d5c3114d7b0a",
   "metadata": {},
   "outputs": [
    {
     "data": {
      "text/plain": [
       "{'dataset': {'dataset': {'name': 'dmec_v6_2', 'train_annotation': 'label_ocr_v5_2_train.txt', 'valid_annotation': 'label_ocr_v5_2_test.txt', 'unchanged': {'root_dir': '/u01/vuh/datasets/OCR', 'img_height': 32, 'img_width_min': 32, 'img_width_max': 1024, 'max_readers': 8}}, 'dataloader': {'num_workers': 4, 'pin_memory': True}, 'aug': {'image_aug': True, 'masked_language_model': False}}, 'model': {'vocab': 'aAàÀảẢãÃáÁạẠăĂằẰẳẲẵẴắẮặẶâÂầẦẩẨẫẪấẤậẬbBcCdDđĐeEèÈẻẺẽẼéÉẹẸêÊềỀểỂễỄếẾệỆfFgGhHiIìÌỉỈĩĨíÍịỊjJkKlLmMnNoOòÒỏỎõÕóÓọỌôÔồỒổỔỗỖốỐộỘơƠờỜởỞỡỠớỚợỢpPqQrRsStTuUùÙủỦũŨúÚụỤưƯừỪửỬữỮứỨựỰvVwWxXyYỳỲỷỶỹỸýÝỵỴzZ0123456789!\"#$%&\\'()*+,-./:;<=>?@[\\\\]^_`{|}~ ', 'device': 'cuda:0', 'batch_size': 256, 'cnn_model': 'vgg19_bn', 'cnn_args': {'pretrained': True, 'stride_pool': [[2, 2], [2, 2], [2, 1], [2, 1], [1, 1]], 'kernel_pool': [[2, 2], [2, 2], [2, 1], [2, 1], [1, 1]], 'hidden': 144, 'dropout': 0.5}, 'transformer_type': 'conformer', 'transformer_args': {'max_seq_length': 1024, 'n_layers': 4, 'scale': True, 'd_model': 144, 'n_head': 4, 'd_feedforward': 576, 'emb_dropout': 0.0, 'pos_dropout': 0.1, 'ff_dropout': 0.1, 'conv_dropout': 0.1, 'attn_dropout': 0.1, 'activation': 'swish', 'layer_norm_eps': 1e-05, 'self_attn_type': 'abs_pos', 'half_step_residual': True, 'conv_kernel_size': 3, 'conv_expansion_factor': 2}}, 'optimizer': {'optimizer': {'type': 'adam', 'lr': 0.001, 'betas': [0.9, 0.98], 'eps': 1e-09, 'weight_decay': 0, 'lr_mul': 2.0, 'n_warm_steps': 8000}}, 'pl_params': {'pl_trainer': {'gpus': 0, 'max_epochs': 200, 'max_steps': 200000, 'num_nodes': 1, 'accelerator': 'dp', 'accumulate_grad_batches': 1, 'checkpoint_callback': True, 'log_every_n_steps': 10, 'val_every_n_steps': 500, 'val_check_interval': 0.5, 'detect_anomaly': True, 'check_val_every_n_epoch': 1, 'precision': 32, 'sync_batchnorm': False, 'benchmark': False, 'gradient_clip_val': 1.0, 'gradient_clip_algorithm': 'value'}, 'loss_func': {'blank': 1, 'reduction': 'sum', 'zero_infinity': True}, 'ctc_smoothing': 0.0, 'max_norm': 5.0, 'pretrained': 'scripts/ckpts_cf_144d/dmec', 'use_beamsearch': False, 'predict': True, 'model_callbacks': {'monitor': 'sentence accuracy', 'dirpath': 'ckpts', 'filename': 'dmec', 'save_top_k': 3, 'mode': 'max'}}, 'lm_models': {'model_path': None, 'alpha': 0.0, 'beta': 0.0, 'cutoff_top_n': 40, 'cutoff_prob': 1.0, 'beam_width': 10, 'num_processes': 8, 'blank_id': 1, 'log_probs_input': False}}"
      ]
     },
     "execution_count": 2,
     "metadata": {},
     "output_type": "execute_result"
    }
   ],
   "source": [
    "hydra.initialize(config_path=\"scripts/hydra_cf_144d_4l\")\n",
    "config = hydra.compose(\"config.yaml\")\n",
    "config"
   ]
  },
  {
   "cell_type": "code",
   "execution_count": 3,
   "id": "c772b9aa-cfda-48c9-9fb4-ea450be888f3",
   "metadata": {},
   "outputs": [
    {
     "name": "stdout",
     "output_type": "stream",
     "text": [
      "vocab_size 231\n"
     ]
    }
   ],
   "source": [
    "model = TransformerOCRCTC(config=config)"
   ]
  },
  {
   "cell_type": "code",
   "execution_count": 8,
   "id": "8d07b4e8-069b-4806-8264-e3094b3386f6",
   "metadata": {},
   "outputs": [
    {
     "data": {
      "text/plain": [
       "<matplotlib.image.AxesImage at 0x7fadf6db1310>"
      ]
     },
     "execution_count": 8,
     "metadata": {},
     "output_type": "execute_result"
    },
    {
     "data": {
      "image/png": "[encoded data removed]",
      "text/plain": [
       "<Figure size 432x288 with 1 Axes>"
      ]
     },
     "metadata": {
      "needs_background": "light"
     },
     "output_type": "display_data"
    }
   ],
   "source": [
    "img = Image.open('test_img.png')\n",
    "plt.imshow(img)"
   ]
  },
  {
   "cell_type": "code",
   "execution_count": 9,
   "id": "b577dc9c-cc6d-4243-90fa-8d092fafcaba",
   "metadata": {},
   "outputs": [
    {
     "data": {
      "text/plain": [
       "(663, 24)"
      ]
     },
     "execution_count": 9,
     "metadata": {},
     "output_type": "execute_result"
    }
   ],
   "source": [
    "img.size"
   ]
  },
  {
   "cell_type": "code",
   "execution_count": 10,
   "id": "14f43e2a-47e3-4878-a2d1-739412b4033b",
   "metadata": {},
   "outputs": [
    {
     "data": {
      "text/plain": [
       "'This certificate is valid from November 18, 2016 to November 17, 2018'"
      ]
     },
     "execution_count": 10,
     "metadata": {},
     "output_type": "execute_result"
    }
   ],
   "source": [
    "ocred_text = model.predict(img)\n",
    "ocred_text"
   ]
  },
  {
   "cell_type": "code",
   "execution_count": 7,
   "id": "93513832-ad0d-4c15-9d97-afd20bbd2df1",
   "metadata": {},
   "outputs": [],
   "source": [
    "# model.validation()"
   ]
  },
  {
   "cell_type": "code",
   "execution_count": null,
   "id": "02c63f6a-bfa4-4b67-8e1e-6e7404c66cdd",
   "metadata": {},
   "outputs": [],
   "source": []
  }
 ],
 "metadata": {
  "kernelspec": {
   "display_name": "Python 3",
   "language": "python",
   "name": "python3"
  },
  "language_info": {
   "codemirror_mode": {
    "name": "ipython",
    "version": 3
   },
   "file_extension": ".py",
   "mimetype": "text/x-python",
   "name": "python",
   "nbconvert_exporter": "python",
   "pygments_lexer": "ipython3",
   "version": "3.7.10"
  }
 },
 "nbformat": 4,
 "nbformat_minor": 5
}
